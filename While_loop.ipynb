{
  "nbformat": 4,
  "nbformat_minor": 0,
  "metadata": {
    "colab": {
      "provenance": [],
      "authorship_tag": "ABX9TyNO2RxQ4AqldV14jevNEBTA",
      "include_colab_link": true
    },
    "kernelspec": {
      "name": "python3",
      "display_name": "Python 3"
    },
    "language_info": {
      "name": "python"
    }
  },
  "cells": [
    {
      "cell_type": "markdown",
      "metadata": {
        "id": "view-in-github",
        "colab_type": "text"
      },
      "source": [
        "<a href=\"https://colab.research.google.com/github/SURJITHGV/SPEECH-RECOGNITION/blob/main/While_loop.ipynb\" target=\"_parent\"><img src=\"https://colab.research.google.com/assets/colab-badge.svg\" alt=\"Open In Colab\"/></a>"
      ]
    },
    {
      "cell_type": "code",
      "execution_count": null,
      "metadata": {
        "colab": {
          "base_uri": "https://localhost:8080/"
        },
        "collapsed": true,
        "id": "VMfZiGXMePSm",
        "outputId": "6dc33b66-551c-4e1c-cc06-ba017f5b60bb"
      },
      "outputs": [
        {
          "output_type": "stream",
          "name": "stdout",
          "text": [
            "1\n",
            "3\n",
            "5\n",
            "7\n",
            "9\n",
            "11\n",
            "13\n",
            "15\n",
            "17\n",
            "19\n"
          ]
        }
      ],
      "source": [
        "n=1\n",
        "i=1\n",
        "while i<=10:\n",
        "    print(n)\n",
        "    n+=2\n",
        "    i+=1\n"
      ]
    },
    {
      "cell_type": "code",
      "source": [
        "n=1\n",
        "i=1\n",
        "while i<=10:\n",
        "    print(n)\n",
        "    n+=1\n",
        "    i+=1"
      ],
      "metadata": {
        "colab": {
          "base_uri": "https://localhost:8080/"
        },
        "id": "hDNqyUeCe9fx",
        "outputId": "a79c4541-c04d-4317-f1b1-64ae7660fcf3"
      },
      "execution_count": null,
      "outputs": [
        {
          "output_type": "stream",
          "name": "stdout",
          "text": [
            "1\n",
            "2\n",
            "3\n",
            "4\n",
            "5\n",
            "6\n",
            "7\n",
            "8\n",
            "9\n",
            "10\n"
          ]
        }
      ]
    },
    {
      "cell_type": "code",
      "source": [
        "n=0\n",
        "i=1\n",
        "while i<=10:\n",
        "    print(n)\n",
        "    n+=1\n",
        "    i+=1"
      ],
      "metadata": {
        "colab": {
          "base_uri": "https://localhost:8080/"
        },
        "id": "aRC4lgwAfHHL",
        "outputId": "562cae18-c8da-462e-c616-f3c12b1955a6"
      },
      "execution_count": null,
      "outputs": [
        {
          "output_type": "stream",
          "name": "stdout",
          "text": [
            "0\n",
            "1\n",
            "2\n",
            "3\n",
            "4\n",
            "5\n",
            "6\n",
            "7\n",
            "8\n",
            "9\n"
          ]
        }
      ]
    },
    {
      "cell_type": "code",
      "source": [
        "#Integers and their squares\n",
        "val=int(input(\"Enter a number :\"))\n",
        "n=abs(val)\n",
        "i=1\n",
        "square=1\n",
        "while i<=n:\n",
        "    #square=i**2\n",
        "    square=i*i\n",
        "    print(i,square)\n",
        "    i+=1\n"
      ],
      "metadata": {
        "colab": {
          "base_uri": "https://localhost:8080/"
        },
        "id": "AdYitTYmfRVn",
        "outputId": "84f7004e-a72d-4c7f-9a65-96b8affc7ad2"
      },
      "execution_count": null,
      "outputs": [
        {
          "output_type": "stream",
          "name": "stdout",
          "text": [
            "Enter a number :6\n",
            "1 1\n",
            "2 4\n",
            "3 9\n",
            "4 16\n",
            "5 25\n",
            "6 36\n"
          ]
        }
      ]
    },
    {
      "cell_type": "code",
      "source": [
        "n=10\n",
        "# i=1\n",
        "while n<=300:\n",
        "    print(n,end=',')\n",
        "    n+=10\n",
        "    # i+=1"
      ],
      "metadata": {
        "collapsed": true,
        "id": "Hm8n0pDEiv5W"
      },
      "execution_count": null,
      "outputs": []
    },
    {
      "cell_type": "code",
      "source": [
        "n=105\n",
        "while n>0:\n",
        "  print(n)\n",
        "  n-=7"
      ],
      "metadata": {
        "id": "5x6PRlC2kaG7"
      },
      "execution_count": null,
      "outputs": []
    },
    {
      "cell_type": "code",
      "source": [
        "n=int(input(\"Enter a number :\"))\n",
        "while n>=0:\n",
        "    print(n)\n",
        "    n-=1\n",
        "\n"
      ],
      "metadata": {
        "id": "vMRSJpp1lP_E"
      },
      "execution_count": null,
      "outputs": []
    },
    {
      "cell_type": "code",
      "source": [
        "i=5\n",
        "num=1\n",
        "sum=0\n",
        "while i>0:\n",
        "    sum=sum+num\n",
        "    num+=1\n",
        "    i-=1\n",
        "print(sum)"
      ],
      "metadata": {
        "id": "peGCv8X2mRS5"
      },
      "execution_count": null,
      "outputs": []
    },
    {
      "cell_type": "code",
      "source": [
        "i=10\n",
        "num=2\n",
        "sum=0\n",
        "while i>0:\n",
        "    sum=sum+num\n",
        "    num+=2\n",
        "    i-=1\n",
        "print(sum)"
      ],
      "metadata": {
        "id": "Z2EH8wfum7pX"
      },
      "execution_count": null,
      "outputs": []
    },
    {
      "cell_type": "code",
      "source": [
        "# Multiplication Table\n",
        "table=int(input(\"Enter a number :\"))\n",
        "print(\"Multiplication Table of \",table,\"is :\")\n",
        "i=1\n",
        "while i<=10:\n",
        "    print(table,\"*\",i,\"=\",table*i)\n",
        "    i+=1"
      ],
      "metadata": {
        "id": "FWWumD2poPNi"
      },
      "execution_count": null,
      "outputs": []
    },
    {
      "cell_type": "code",
      "source": [
        "#Print all even nos between 2 nos exclusive of them\n",
        "a,b=map(int,input(\"Enter two numbers :\").split())\n",
        "if a<b:\n",
        "    a+=1\n",
        "    while a<b:\n",
        "      if a%2==0:\n",
        "          print(a)\n",
        "      a+=1\n",
        "else:\n",
        "    b+=1\n",
        "    while a>b:\n",
        "      if b%2==0:\n",
        "          print(b)\n",
        "      b+=1"
      ],
      "metadata": {
        "colab": {
          "base_uri": "https://localhost:8080/"
        },
        "id": "6HVJJr5tqolw",
        "outputId": "be72edd2-ae52-45b7-d6fe-fd1bdf186e0b",
        "collapsed": true
      },
      "execution_count": 28,
      "outputs": [
        {
          "output_type": "stream",
          "name": "stdout",
          "text": [
            "Enter two numbers :3 20\n",
            "4\n",
            "6\n",
            "8\n",
            "10\n",
            "12\n",
            "14\n",
            "16\n",
            "18\n"
          ]
        }
      ]
    },
    {
      "cell_type": "code",
      "source": [
        "#prime number\n",
        "n=int(input(\"Enter a number :\"))\n",
        "if n<=1:\n",
        "    print(\"Not a Prime\")\n",
        "else:\n",
        "    i=2\n",
        "    while i*i<=n:  #Correct only but it takes O(n) Time complexity which means its inefficient for large numbers\n",
        "        if n%i==0:\n",
        "           print(\"Not a prime\")\n",
        "           break\n",
        "        i+=1\n",
        "    else:\n",
        "        print(\"Prime\")\n"
      ],
      "metadata": {
        "colab": {
          "base_uri": "https://localhost:8080/"
        },
        "id": "_LTBYTTA28TL",
        "outputId": "35be45c9-e2b9-445d-eeec-822384fea07c"
      },
      "execution_count": 44,
      "outputs": [
        {
          "output_type": "stream",
          "name": "stdout",
          "text": [
            "Enter a number :98\n",
            "Not a prime\n"
          ]
        }
      ]
    },
    {
      "cell_type": "code",
      "source": [
        "#Sum of digits\n",
        "n=abs(int(input(\"Enter a number :\")))\n",
        "sum=0\n",
        "while n>0:\n",
        "    sum=sum+(n%10)\n",
        "    #You've used it before : sum=sum+(n//10)\n",
        "    n=n//10\n",
        "print(sum)\n"
      ],
      "metadata": {
        "colab": {
          "base_uri": "https://localhost:8080/"
        },
        "collapsed": true,
        "id": "-laM_-d54J5s",
        "outputId": "67073614-8195-4327-d7af-4cf0e4440873"
      },
      "execution_count": 48,
      "outputs": [
        {
          "output_type": "stream",
          "name": "stdout",
          "text": [
            "Enter a number :3456\n",
            "18\n"
          ]
        }
      ]
    },
    {
      "cell_type": "code",
      "source": [
        "#Product of digits\n",
        "n=abs(int(input(\"Enter a number :\")))\n",
        "pdt=1\n",
        "if n==0:\n",
        "    print(0)\n",
        "else:#included if else for edge cases\n",
        "    while n>0:\n",
        "        pdt=pdt*(n%10)\n",
        "        n=n//10\n",
        "    print(pdt)"
      ],
      "metadata": {
        "colab": {
          "base_uri": "https://localhost:8080/"
        },
        "id": "hwkVYCMaC_94",
        "outputId": "1c985986-0417-4830-9689-8b5a50712c76"
      },
      "execution_count": 64,
      "outputs": [
        {
          "output_type": "stream",
          "name": "stdout",
          "text": [
            "Enter a number :102\n",
            "0\n"
          ]
        }
      ]
    },
    {
      "cell_type": "code",
      "source": [
        "#Counting no of digits\n",
        "n=abs(int(input(\"Enter a number :\")))\n",
        "count=0\n",
        "while n>0:\n",
        "    n=n//10\n",
        "    count+=1\n",
        "print(count)"
      ],
      "metadata": {
        "colab": {
          "base_uri": "https://localhost:8080/"
        },
        "id": "Sui4oR9BFL1H",
        "outputId": "f0ae5d3e-8707-4e1a-c015-ee168ee761c3"
      },
      "execution_count": 62,
      "outputs": [
        {
          "output_type": "stream",
          "name": "stdout",
          "text": [
            "Enter a number :67\n",
            "2\n"
          ]
        }
      ]
    },
    {
      "cell_type": "code",
      "source": [
        "#Reverse a number\n",
        "n=abs(int(input(\"Enter a number :\")))\n",
        "rev=0\n",
        "while n>0:\n",
        "    rev=rev*10+(n%10)\n",
        "    n=n//10\n",
        "    #rev=rev*10 + n%10\n",
        "print(rev)\n"
      ],
      "metadata": {
        "colab": {
          "base_uri": "https://localhost:8080/"
        },
        "id": "O3piR2rsFshY",
        "outputId": "7dde8cca-dddd-409c-c97a-9d3a1068a768"
      },
      "execution_count": 60,
      "outputs": [
        {
          "output_type": "stream",
          "name": "stdout",
          "text": [
            "Enter a number :654\n",
            "456\n"
          ]
        }
      ]
    },
    {
      "cell_type": "code",
      "source": [
        "n=int(input(\"Enter a number :\"))\n",
        "'''To improve user experience, you can add messages for negative numbers\n",
        "or prevent the need for abs():'''\n",
        "if n<0:\n",
        "    print(\"Negative numbers cannot be palindromes.\")\n",
        "else:\n",
        "    rev=0\n",
        "    n1=n\n",
        "    while n1>0:\n",
        "        #rev = n[::-1] -> used for string operations\n",
        "        rev = rev*10 + (n1%10)\n",
        "        n1=n1//10\n",
        "    if rev==n:\n",
        "        print(\"Palindrome\")\n",
        "    else:\n",
        "        print(\"Not a Palindrome\")"
      ],
      "metadata": {
        "colab": {
          "base_uri": "https://localhost:8080/"
        },
        "id": "Np-UiOLOGHU3",
        "outputId": "280fb364-87ac-448d-9679-13c3161d0562"
      },
      "execution_count": 79,
      "outputs": [
        {
          "output_type": "stream",
          "name": "stdout",
          "text": [
            "Enter a number :090909\n",
            "Palindrome\n"
          ]
        }
      ]
    },
    {
      "cell_type": "code",
      "source": [],
      "metadata": {
        "id": "H-HOzqSpGSDF"
      },
      "execution_count": null,
      "outputs": []
    }
  ]
}